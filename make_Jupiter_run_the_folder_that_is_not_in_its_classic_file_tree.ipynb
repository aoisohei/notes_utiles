{
  "nbformat": 4,
  "nbformat_minor": 0,
  "metadata": {
    "colab": {
      "name": "make Jupiter run the folder that is not in its classic file tree.ipynb",
      "provenance": [],
      "authorship_tag": "ABX9TyORDwGKAgt9THRA0UIHT/B8",
      "include_colab_link": true
    },
    "kernelspec": {
      "name": "python3",
      "display_name": "Python 3"
    }
  },
  "cells": [
    {
      "cell_type": "markdown",
      "metadata": {
        "id": "view-in-github",
        "colab_type": "text"
      },
      "source": [
        "<a href=\"https://colab.research.google.com/github/aoisohei/notes_utiles/blob/main/make_Jupiter_run_the_folder_that_is_not_in_its_classic_file_tree.ipynb\" target=\"_parent\"><img src=\"https://colab.research.google.com/assets/colab-badge.svg\" alt=\"Open In Colab\"/></a>"
      ]
    },
    {
      "cell_type": "markdown",
      "metadata": {
        "id": "lQNP_kw6RJ0v"
      },
      "source": [
        "# Make Jupiter run the folder that is not in its classic file tree"
      ]
    },
    {
      "cell_type": "markdown",
      "metadata": {
        "id": "77O_tZdKPmOo"
      },
      "source": [
        "Need :\n",
        "1. Open Anaconda Prompt\n",
        "2. Tape next :"
      ]
    },
    {
      "cell_type": "code",
      "metadata": {
        "id": "QD1YEql8ORdB"
      },
      "source": [
        "jupyter notebook --notebook-dir D:/Boulot"
      ],
      "execution_count": null,
      "outputs": []
    },
    {
      "cell_type": "markdown",
      "metadata": {
        "id": "hC4s433sP6aP"
      },
      "source": [
        "3. Lance and Jupyter will be open automatique"
      ]
    }
  ]
}